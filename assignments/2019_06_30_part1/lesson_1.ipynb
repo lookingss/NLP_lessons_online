{
 "cells": [
  {
   "cell_type": "code",
   "execution_count": 15,
   "metadata": {},
   "outputs": [],
   "source": [
    "customer_service = \"\"\"\n",
    "recommend = 尊称 自我介绍 时间节点 推荐内容\n",
    "尊称 = 称谓 你好, \n",
    "称谓 = 美女 | 帅哥 | 小姐 | 小朋友 | 阿姨 | 大叔\n",
    "自我介绍 = 我是 职务 姓名\n",
    "职务 = 服务员 | 厨师 | 店长\n",
    "姓名 = 小张 | 小李 | 小芸 | 小宏 | 小岳\n",
    "时间节点 = 现在是 时间 ,\n",
    "时间 = 早上 | 中午 | 晚上 | 下午\n",
    "推荐内容 = 我 行为动词 你们 动词 我们店 菜名\n",
    "行为动词 = 请 | 推荐 \n",
    "动词 = 喝 | 品尝\n",
    "菜名 = 宫保鸡丁 | 苹果汁 | 西红柿蛋汤 | 小炒肉\n",
    "\"\"\""
   ]
  },
  {
   "cell_type": "code",
   "execution_count": 24,
   "metadata": {},
   "outputs": [],
   "source": [
    "order_food = \"\"\"\n",
    "order = 尊称 内容 形容词\n",
    "尊称 = 称谓 时间 好,\n",
    "称谓 = 美女 | 帅哥 | 小姐 | 小朋友 | 阿姨 | 大叔\n",
    "时间 = 上午 | 下午 | 晚上\n",
    "内容 = 我们现在有 食品 ,\n",
    "食品 = 红烧带鱼 | 酸菜鱼 | 清蒸鲈鱼 | 麻辣烤鱼\n",
    "形容词 = 人群 都说 评价\n",
    "人群 = 客人 | 大家 | 美团评论\n",
    "评价 = 非常好吃 | 很给力 | 下次继续点 \n",
    "\"\"\""
   ]
  },
  {
   "cell_type": "code",
   "execution_count": 9,
   "metadata": {},
   "outputs": [],
   "source": [
    "def create_grammar(grammar_str):\n",
    "    grammar = {}\n",
    "    for line in grammar_str.split('\\n'):\n",
    "        if not line.strip(): continue\n",
    "        title, content = line.split('=')\n",
    "        grammar[title.strip()] = [ s.split() for s in content.split('|')]\n",
    "        \n",
    "    return grammar"
   ]
  },
  {
   "cell_type": "code",
   "execution_count": 17,
   "metadata": {},
   "outputs": [],
   "source": [
    "customer_service = create_grammar(customer_service)"
   ]
  },
  {
   "cell_type": "code",
   "execution_count": 25,
   "metadata": {},
   "outputs": [],
   "source": [
    "order_food = create_grammar(order_food)"
   ]
  },
  {
   "cell_type": "code",
   "execution_count": 11,
   "metadata": {},
   "outputs": [],
   "source": [
    "import random\n",
    "\n",
    "def generate(grammar, target):\n",
    "    if target not in grammar:\n",
    "        return target\n",
    "    else:\n",
    "        expand = [generate(grammar, i) for i in random.choice(grammar[target])]\n",
    "        return \"\".join(expand)\n"
   ]
  },
  {
   "cell_type": "code",
   "execution_count": 19,
   "metadata": {},
   "outputs": [
    {
     "name": "stdout",
     "output_type": "stream",
     "text": [
      "小姐你好,我是厨师小张现在是中午,我请你们喝我们店小炒肉\n",
      "小姐你好,我是厨师小宏现在是下午,我推荐你们品尝我们店西红柿蛋汤\n",
      "帅哥你好,我是厨师小宏现在是下午,我请你们品尝我们店苹果汁\n",
      "小姐你好,我是店长小张现在是晚上,我推荐你们品尝我们店西红柿蛋汤\n",
      "小朋友你好,我是服务员小宏现在是下午,我推荐你们品尝我们店宫保鸡丁\n",
      "阿姨你好,我是店长小芸现在是中午,我推荐你们品尝我们店西红柿蛋汤\n",
      "小朋友你好,我是服务员小岳现在是早上,我请你们品尝我们店小炒肉\n",
      "大叔你好,我是服务员小芸现在是中午,我请你们喝我们店西红柿蛋汤\n",
      "小姐你好,我是店长小李现在是中午,我推荐你们品尝我们店宫保鸡丁\n",
      "小朋友你好,我是店长小芸现在是下午,我请你们品尝我们店苹果汁\n",
      "阿姨你好,我是服务员小岳现在是早上,我推荐你们品尝我们店苹果汁\n",
      "小朋友你好,我是服务员小李现在是早上,我请你们喝我们店宫保鸡丁\n",
      "小姐你好,我是服务员小李现在是晚上,我推荐你们喝我们店西红柿蛋汤\n",
      "小姐你好,我是厨师小芸现在是晚上,我推荐你们品尝我们店苹果汁\n",
      "帅哥你好,我是厨师小张现在是下午,我推荐你们喝我们店宫保鸡丁\n",
      "美女你好,我是服务员小李现在是下午,我推荐你们品尝我们店小炒肉\n",
      "小姐你好,我是服务员小岳现在是晚上,我请你们喝我们店西红柿蛋汤\n",
      "小姐你好,我是店长小芸现在是早上,我推荐你们品尝我们店苹果汁\n",
      "帅哥你好,我是厨师小张现在是下午,我推荐你们品尝我们店西红柿蛋汤\n",
      "小朋友你好,我是厨师小张现在是下午,我推荐你们品尝我们店小炒肉\n"
     ]
    }
   ],
   "source": [
    "for i in range(20):\n",
    "    print(generate(grammar=customer_service, target='recommend'))"
   ]
  },
  {
   "cell_type": "code",
   "execution_count": 26,
   "metadata": {},
   "outputs": [
    {
     "name": "stdout",
     "output_type": "stream",
     "text": [
      "大叔下午好,我们现在有酸菜鱼,美团评论都说很给力\n",
      "大叔上午好,我们现在有麻辣烤鱼,美团评论都说下次继续点\n",
      "大叔晚上好,我们现在有麻辣烤鱼,美团评论都说下次继续点\n",
      "大叔上午好,我们现在有红烧带鱼,客人都说下次继续点\n",
      "阿姨上午好,我们现在有麻辣烤鱼,客人都说非常好吃\n",
      "小姐晚上好,我们现在有红烧带鱼,客人都说下次继续点\n",
      "大叔下午好,我们现在有麻辣烤鱼,客人都说很给力\n",
      "大叔晚上好,我们现在有清蒸鲈鱼,美团评论都说下次继续点\n",
      "帅哥晚上好,我们现在有清蒸鲈鱼,美团评论都说非常好吃\n",
      "帅哥下午好,我们现在有红烧带鱼,美团评论都说下次继续点\n",
      "帅哥上午好,我们现在有红烧带鱼,大家都说很给力\n",
      "美女下午好,我们现在有酸菜鱼,大家都说很给力\n",
      "帅哥下午好,我们现在有酸菜鱼,客人都说下次继续点\n",
      "帅哥下午好,我们现在有麻辣烤鱼,美团评论都说下次继续点\n",
      "大叔晚上好,我们现在有麻辣烤鱼,美团评论都说下次继续点\n",
      "小姐下午好,我们现在有酸菜鱼,美团评论都说很给力\n",
      "帅哥上午好,我们现在有酸菜鱼,客人都说下次继续点\n",
      "阿姨上午好,我们现在有酸菜鱼,客人都说下次继续点\n",
      "小姐下午好,我们现在有酸菜鱼,客人都说很给力\n",
      "美女下午好,我们现在有清蒸鲈鱼,大家都说下次继续点\n"
     ]
    }
   ],
   "source": [
    "for i in range(20):\n",
    "    print(generate(grammar=order_food, target='order'))"
   ]
  },
  {
   "cell_type": "code",
   "execution_count": 13,
   "metadata": {},
   "outputs": [],
   "source": [
    "def generate_n(grammar, target, num):\n",
    "    sentences = list()\n",
    "    for i in range(int(num) + 1):\n",
    "        if target not in grammar:\n",
    "            sentences.append(target)\n",
    "        else:\n",
    "            expand = [generate(grammar, i) for i in random.choice(grammar[target])]\n",
    "            sentences.append(\"\".join(expand))\n",
    "    return sentences"
   ]
  },
  {
   "cell_type": "code",
   "execution_count": 14,
   "metadata": {},
   "outputs": [
    {
     "data": {
      "text/plain": [
       "['美女你好,我是厨师小张现在是早上,我请你们喝我们店苹果汁',\n",
       " '小朋友你好,我是店长小李现在是晚上,我推荐你们喝我们店苹果汁',\n",
       " '美女你好,我是厨师小岳现在是晚上,我请你们喝我们店宫保鸡丁',\n",
       " '美女你好,我是店长小张现在是中午,我请你们喝我们店宫保鸡丁',\n",
       " '大叔你好,我是服务员小李现在是晚上,我推荐你们喝我们店小炒肉',\n",
       " '大叔你好,我是服务员小芸现在是早上,我推荐你们品尝我们店西红柿蛋汤',\n",
       " '小姐你好,我是服务员小李现在是下午,我请你们品尝我们店小炒肉',\n",
       " '阿姨你好,我是厨师小张现在是下午,我推荐你们品尝我们店西红柿蛋汤',\n",
       " '阿姨你好,我是店长小宏现在是下午,我推荐你们品尝我们店小炒肉',\n",
       " '小朋友你好,我是厨师小岳现在是早上,我请你们品尝我们店宫保鸡丁',\n",
       " '小姐你好,我是厨师小张现在是晚上,我推荐你们喝我们店西红柿蛋汤',\n",
       " '小姐你好,我是服务员小岳现在是早上,我请你们品尝我们店小炒肉',\n",
       " '小姐你好,我是厨师小芸现在是中午,我请你们品尝我们店宫保鸡丁',\n",
       " '帅哥你好,我是厨师小岳现在是早上,我推荐你们喝我们店小炒肉',\n",
       " '帅哥你好,我是店长小芸现在是下午,我推荐你们品尝我们店苹果汁',\n",
       " '小姐你好,我是厨师小张现在是早上,我推荐你们品尝我们店宫保鸡丁',\n",
       " '小朋友你好,我是厨师小李现在是下午,我请你们喝我们店小炒肉',\n",
       " '帅哥你好,我是店长小宏现在是中午,我推荐你们品尝我们店西红柿蛋汤',\n",
       " '小姐你好,我是店长小宏现在是早上,我推荐你们喝我们店宫保鸡丁',\n",
       " '小姐你好,我是店长小芸现在是晚上,我推荐你们品尝我们店西红柿蛋汤',\n",
       " '小姐你好,我是店长小张现在是晚上,我推荐你们品尝我们店宫保鸡丁']"
      ]
     },
     "execution_count": 14,
     "metadata": {},
     "output_type": "execute_result"
    }
   ],
   "source": [
    "generate_n(grammar=customer_service, target=\"recommend\", num=20)"
   ]
  },
  {
   "cell_type": "code",
   "execution_count": 27,
   "metadata": {},
   "outputs": [
    {
     "data": {
      "text/plain": [
       "['大叔晚上好,我们现在有麻辣烤鱼,客人都说非常好吃',\n",
       " '小姐下午好,我们现在有清蒸鲈鱼,客人都说非常好吃',\n",
       " '阿姨下午好,我们现在有红烧带鱼,客人都说很给力',\n",
       " '大叔晚上好,我们现在有红烧带鱼,客人都说很给力',\n",
       " '美女上午好,我们现在有红烧带鱼,美团评论都说很给力',\n",
       " '阿姨晚上好,我们现在有酸菜鱼,客人都说很给力',\n",
       " '小朋友下午好,我们现在有红烧带鱼,客人都说非常好吃',\n",
       " '小朋友上午好,我们现在有麻辣烤鱼,美团评论都说下次继续点',\n",
       " '阿姨晚上好,我们现在有清蒸鲈鱼,客人都说下次继续点',\n",
       " '小朋友晚上好,我们现在有红烧带鱼,大家都说下次继续点',\n",
       " '阿姨下午好,我们现在有酸菜鱼,客人都说很给力',\n",
       " '大叔上午好,我们现在有麻辣烤鱼,客人都说很给力',\n",
       " '美女晚上好,我们现在有酸菜鱼,美团评论都说下次继续点',\n",
       " '阿姨下午好,我们现在有红烧带鱼,大家都说很给力',\n",
       " '美女晚上好,我们现在有麻辣烤鱼,客人都说很给力',\n",
       " '美女晚上好,我们现在有麻辣烤鱼,大家都说非常好吃',\n",
       " '帅哥上午好,我们现在有麻辣烤鱼,客人都说很给力',\n",
       " '小朋友上午好,我们现在有酸菜鱼,客人都说下次继续点',\n",
       " '阿姨上午好,我们现在有酸菜鱼,客人都说非常好吃',\n",
       " '帅哥上午好,我们现在有清蒸鲈鱼,客人都说很给力',\n",
       " '帅哥晚上好,我们现在有红烧带鱼,大家都说下次继续点']"
      ]
     },
     "execution_count": 27,
     "metadata": {},
     "output_type": "execute_result"
    }
   ],
   "source": [
    "generate_n(grammar=order_food, target=\"order\", num=20)"
   ]
  }
 ],
 "metadata": {
  "kernelspec": {
   "display_name": "Python 3",
   "language": "python",
   "name": "python3"
  },
  "language_info": {
   "codemirror_mode": {
    "name": "ipython",
    "version": 3
   },
   "file_extension": ".py",
   "mimetype": "text/x-python",
   "name": "python",
   "nbconvert_exporter": "python",
   "pygments_lexer": "ipython3",
   "version": "3.7.3"
  }
 },
 "nbformat": 4,
 "nbformat_minor": 2
}
